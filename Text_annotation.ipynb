{
 "cells": [
  {
   "cell_type": "code",
   "execution_count": 8,
   "id": "c1741c19",
   "metadata": {},
   "outputs": [
    {
     "name": "stderr",
     "output_type": "stream",
     "text": [
      "C:\\Users\\keval\\AppData\\Local\\Temp\\ipykernel_11504\\4109819239.py:4: MatplotlibDeprecationWarning: The seaborn styles shipped by Matplotlib are deprecated since 3.6, as they no longer correspond to the styles shipped by seaborn. However, they will remain available as 'seaborn-v0_8-<style>'. Alternatively, directly use the seaborn API instead.\n",
      "  plt.style.use('seaborn-whitegrid')\n"
     ]
    }
   ],
   "source": [
    "%matplotlib inline\n",
    "import matplotlib.pyplot as plt\n",
    "import matplotlib as mpl\n",
    "plt.style.use('seaborn-whitegrid')\n",
    "import numpy as np\n",
    "import pandas as pd\n",
    "import datetime as dt"
   ]
  },
  {
   "cell_type": "code",
   "execution_count": 6,
   "id": "0eaecfd1",
   "metadata": {},
   "outputs": [
    {
     "data": {
      "text/html": [
       "<div>\n",
       "<style scoped>\n",
       "    .dataframe tbody tr th:only-of-type {\n",
       "        vertical-align: middle;\n",
       "    }\n",
       "\n",
       "    .dataframe tbody tr th {\n",
       "        vertical-align: top;\n",
       "    }\n",
       "\n",
       "    .dataframe thead th {\n",
       "        text-align: right;\n",
       "    }\n",
       "</style>\n",
       "<table border=\"1\" class=\"dataframe\">\n",
       "  <thead>\n",
       "    <tr style=\"text-align: right;\">\n",
       "      <th></th>\n",
       "      <th>year</th>\n",
       "      <th>month</th>\n",
       "      <th>day</th>\n",
       "      <th>gender</th>\n",
       "      <th>births</th>\n",
       "    </tr>\n",
       "  </thead>\n",
       "  <tbody>\n",
       "    <tr>\n",
       "      <th>0</th>\n",
       "      <td>1969</td>\n",
       "      <td>1</td>\n",
       "      <td>1.0</td>\n",
       "      <td>F</td>\n",
       "      <td>4046</td>\n",
       "    </tr>\n",
       "    <tr>\n",
       "      <th>1</th>\n",
       "      <td>1969</td>\n",
       "      <td>1</td>\n",
       "      <td>1.0</td>\n",
       "      <td>M</td>\n",
       "      <td>4440</td>\n",
       "    </tr>\n",
       "    <tr>\n",
       "      <th>2</th>\n",
       "      <td>1969</td>\n",
       "      <td>1</td>\n",
       "      <td>2.0</td>\n",
       "      <td>F</td>\n",
       "      <td>4454</td>\n",
       "    </tr>\n",
       "    <tr>\n",
       "      <th>3</th>\n",
       "      <td>1969</td>\n",
       "      <td>1</td>\n",
       "      <td>2.0</td>\n",
       "      <td>M</td>\n",
       "      <td>4548</td>\n",
       "    </tr>\n",
       "    <tr>\n",
       "      <th>4</th>\n",
       "      <td>1969</td>\n",
       "      <td>1</td>\n",
       "      <td>3.0</td>\n",
       "      <td>F</td>\n",
       "      <td>4548</td>\n",
       "    </tr>\n",
       "    <tr>\n",
       "      <th>...</th>\n",
       "      <td>...</td>\n",
       "      <td>...</td>\n",
       "      <td>...</td>\n",
       "      <td>...</td>\n",
       "      <td>...</td>\n",
       "    </tr>\n",
       "    <tr>\n",
       "      <th>15542</th>\n",
       "      <td>2008</td>\n",
       "      <td>10</td>\n",
       "      <td>NaN</td>\n",
       "      <td>M</td>\n",
       "      <td>183219</td>\n",
       "    </tr>\n",
       "    <tr>\n",
       "      <th>15543</th>\n",
       "      <td>2008</td>\n",
       "      <td>11</td>\n",
       "      <td>NaN</td>\n",
       "      <td>F</td>\n",
       "      <td>158939</td>\n",
       "    </tr>\n",
       "    <tr>\n",
       "      <th>15544</th>\n",
       "      <td>2008</td>\n",
       "      <td>11</td>\n",
       "      <td>NaN</td>\n",
       "      <td>M</td>\n",
       "      <td>165468</td>\n",
       "    </tr>\n",
       "    <tr>\n",
       "      <th>15545</th>\n",
       "      <td>2008</td>\n",
       "      <td>12</td>\n",
       "      <td>NaN</td>\n",
       "      <td>F</td>\n",
       "      <td>173215</td>\n",
       "    </tr>\n",
       "    <tr>\n",
       "      <th>15546</th>\n",
       "      <td>2008</td>\n",
       "      <td>12</td>\n",
       "      <td>NaN</td>\n",
       "      <td>M</td>\n",
       "      <td>181235</td>\n",
       "    </tr>\n",
       "  </tbody>\n",
       "</table>\n",
       "<p>15547 rows × 5 columns</p>\n",
       "</div>"
      ],
      "text/plain": [
       "       year  month  day gender  births\n",
       "0      1969      1  1.0      F    4046\n",
       "1      1969      1  1.0      M    4440\n",
       "2      1969      1  2.0      F    4454\n",
       "3      1969      1  2.0      M    4548\n",
       "4      1969      1  3.0      F    4548\n",
       "...     ...    ...  ...    ...     ...\n",
       "15542  2008     10  NaN      M  183219\n",
       "15543  2008     11  NaN      F  158939\n",
       "15544  2008     11  NaN      M  165468\n",
       "15545  2008     12  NaN      F  173215\n",
       "15546  2008     12  NaN      M  181235\n",
       "\n",
       "[15547 rows x 5 columns]"
      ]
     },
     "execution_count": 6,
     "metadata": {},
     "output_type": "execute_result"
    }
   ],
   "source": [
    "births=pd.read_csv(\"births.csv\")\n",
    "births"
   ]
  },
  {
   "cell_type": "code",
   "execution_count": 9,
   "id": "82513e33",
   "metadata": {},
   "outputs": [
    {
     "ename": "AttributeError",
     "evalue": "module 'pandas' has no attribute 'datetime'",
     "output_type": "error",
     "traceback": [
      "\u001b[1;31m---------------------------------------------------------------------------\u001b[0m",
      "\u001b[1;31mAttributeError\u001b[0m                            Traceback (most recent call last)",
      "Cell \u001b[1;32mIn[9], line 12\u001b[0m\n\u001b[0;32m      7\u001b[0m births\u001b[38;5;241m.\u001b[39mindex \u001b[38;5;241m=\u001b[39m pd\u001b[38;5;241m.\u001b[39mto_datetime(\u001b[38;5;241m10000\u001b[39m \u001b[38;5;241m*\u001b[39m births\u001b[38;5;241m.\u001b[39myear \u001b[38;5;241m+\u001b[39m\n\u001b[0;32m      8\u001b[0m                               \u001b[38;5;241m100\u001b[39m \u001b[38;5;241m*\u001b[39m births\u001b[38;5;241m.\u001b[39mmonth \u001b[38;5;241m+\u001b[39m\n\u001b[0;32m      9\u001b[0m                               births\u001b[38;5;241m.\u001b[39mday, \u001b[38;5;28mformat\u001b[39m\u001b[38;5;241m=\u001b[39m\u001b[38;5;124m'\u001b[39m\u001b[38;5;124m%\u001b[39m\u001b[38;5;124mY\u001b[39m\u001b[38;5;124m%\u001b[39m\u001b[38;5;124mm\u001b[39m\u001b[38;5;132;01m%d\u001b[39;00m\u001b[38;5;124m'\u001b[39m)\n\u001b[0;32m     10\u001b[0m births_by_date \u001b[38;5;241m=\u001b[39m births\u001b[38;5;241m.\u001b[39mpivot_table(\u001b[38;5;124m'\u001b[39m\u001b[38;5;124mbirths\u001b[39m\u001b[38;5;124m'\u001b[39m,\n\u001b[0;32m     11\u001b[0m                                     [births\u001b[38;5;241m.\u001b[39mindex\u001b[38;5;241m.\u001b[39mmonth, births\u001b[38;5;241m.\u001b[39mindex\u001b[38;5;241m.\u001b[39mday])\n\u001b[1;32m---> 12\u001b[0m births_by_date\u001b[38;5;241m.\u001b[39mindex \u001b[38;5;241m=\u001b[39m [pd\u001b[38;5;241m.\u001b[39mdatetime(\u001b[38;5;241m2012\u001b[39m, month, day)\n\u001b[0;32m     13\u001b[0m                         \u001b[38;5;28;01mfor\u001b[39;00m (month, day) \u001b[38;5;129;01min\u001b[39;00m births_by_date\u001b[38;5;241m.\u001b[39mindex]\n",
      "Cell \u001b[1;32mIn[9], line 12\u001b[0m, in \u001b[0;36m<listcomp>\u001b[1;34m(.0)\u001b[0m\n\u001b[0;32m      7\u001b[0m births\u001b[38;5;241m.\u001b[39mindex \u001b[38;5;241m=\u001b[39m pd\u001b[38;5;241m.\u001b[39mto_datetime(\u001b[38;5;241m10000\u001b[39m \u001b[38;5;241m*\u001b[39m births\u001b[38;5;241m.\u001b[39myear \u001b[38;5;241m+\u001b[39m\n\u001b[0;32m      8\u001b[0m                               \u001b[38;5;241m100\u001b[39m \u001b[38;5;241m*\u001b[39m births\u001b[38;5;241m.\u001b[39mmonth \u001b[38;5;241m+\u001b[39m\n\u001b[0;32m      9\u001b[0m                               births\u001b[38;5;241m.\u001b[39mday, \u001b[38;5;28mformat\u001b[39m\u001b[38;5;241m=\u001b[39m\u001b[38;5;124m'\u001b[39m\u001b[38;5;124m%\u001b[39m\u001b[38;5;124mY\u001b[39m\u001b[38;5;124m%\u001b[39m\u001b[38;5;124mm\u001b[39m\u001b[38;5;132;01m%d\u001b[39;00m\u001b[38;5;124m'\u001b[39m)\n\u001b[0;32m     10\u001b[0m births_by_date \u001b[38;5;241m=\u001b[39m births\u001b[38;5;241m.\u001b[39mpivot_table(\u001b[38;5;124m'\u001b[39m\u001b[38;5;124mbirths\u001b[39m\u001b[38;5;124m'\u001b[39m,\n\u001b[0;32m     11\u001b[0m                                     [births\u001b[38;5;241m.\u001b[39mindex\u001b[38;5;241m.\u001b[39mmonth, births\u001b[38;5;241m.\u001b[39mindex\u001b[38;5;241m.\u001b[39mday])\n\u001b[1;32m---> 12\u001b[0m births_by_date\u001b[38;5;241m.\u001b[39mindex \u001b[38;5;241m=\u001b[39m [pd\u001b[38;5;241m.\u001b[39mdatetime(\u001b[38;5;241m2012\u001b[39m, month, day)\n\u001b[0;32m     13\u001b[0m                         \u001b[38;5;28;01mfor\u001b[39;00m (month, day) \u001b[38;5;129;01min\u001b[39;00m births_by_date\u001b[38;5;241m.\u001b[39mindex]\n",
      "\u001b[1;31mAttributeError\u001b[0m: module 'pandas' has no attribute 'datetime'"
     ]
    }
   ],
   "source": [
    "quartiles = np.percentile(births['births'], [25, 50, 75])\n",
    "mu, sig = quartiles[1], 0.74 * (quartiles[2] - quartiles[0])\n",
    "births = births.query('(births > @mu - 5 * @sig) & (births < @mu + 5 * @sig)')\n",
    "\n",
    "births['day'] = births['day'].astype(int)\n",
    "\n",
    "births.index = pd.to_datetime(10000 * births.year +\n",
    "                              100 * births.month +\n",
    "                              births.day, format='%Y%m%d')\n",
    "births_by_date = births.pivot_table('births',\n",
    "                                    [births.index.month, births.index.day])\n",
    "births_by_date.index = [pd.datetime(2012, month, day)\n",
    "                        for (month, day) in births_by_date.index]"
   ]
  },
  {
   "cell_type": "code",
   "execution_count": null,
   "id": "3ff0a27b",
   "metadata": {},
   "outputs": [],
   "source": []
  }
 ],
 "metadata": {
  "kernelspec": {
   "display_name": "Python 3 (ipykernel)",
   "language": "python",
   "name": "python3"
  },
  "language_info": {
   "codemirror_mode": {
    "name": "ipython",
    "version": 3
   },
   "file_extension": ".py",
   "mimetype": "text/x-python",
   "name": "python",
   "nbconvert_exporter": "python",
   "pygments_lexer": "ipython3",
   "version": "3.11.5"
  }
 },
 "nbformat": 4,
 "nbformat_minor": 5
}
